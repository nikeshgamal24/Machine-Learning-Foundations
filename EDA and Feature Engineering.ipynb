{
 "cells": [
  {
   "cell_type": "code",
   "execution_count": null,
   "id": "e2542d94-35bb-48ce-abf3-7dd5ab2e2c17",
   "metadata": {},
   "outputs": [],
   "source": []
  }
 ],
 "metadata": {
  "kernelspec": {
   "display_name": "",
   "name": ""
  },
  "language_info": {
   "name": ""
  }
 },
 "nbformat": 4,
 "nbformat_minor": 5
}
